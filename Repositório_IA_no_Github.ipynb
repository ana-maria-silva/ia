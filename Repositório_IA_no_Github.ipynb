{
  "nbformat": 4,
  "nbformat_minor": 0,
  "metadata": {
    "colab": {
      "provenance": []
    },
    "kernelspec": {
      "name": "python3",
      "display_name": "Python 3"
    },
    "language_info": {
      "name": "python"
    }
  },
  "cells": [
    {
      "cell_type": "markdown",
      "source": [
        "# Repositório IA no GitHub\n",
        "\n",
        "https://github.com/ana-maria-silva/ia\n",
        "\n",
        "\n"
      ],
      "metadata": {
        "id": "5aTwANdXt8bD"
      }
    }
  ]
}